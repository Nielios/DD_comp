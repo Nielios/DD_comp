{
 "cells": [
  {
   "cell_type": "markdown",
   "metadata": {},
   "source": [
    "# Het inladen van de packages en data"
   ]
  },
  {
   "cell_type": "code",
   "execution_count": 1,
   "metadata": {},
   "outputs": [
    {
     "ename": "OSError",
     "evalue": "[WinError 126] The specified module could not be found",
     "output_type": "error",
     "traceback": [
      "\u001b[1;31m---------------------------------------------------------------------------\u001b[0m",
      "\u001b[1;31mOSError\u001b[0m                                   Traceback (most recent call last)",
      "\u001b[1;32m<ipython-input-1-055aa32c5062>\u001b[0m in \u001b[0;36m<module>\u001b[1;34m()\u001b[0m\n\u001b[0;32m     17\u001b[0m \u001b[1;32mfrom\u001b[0m \u001b[0msklearn\u001b[0m\u001b[1;33m.\u001b[0m\u001b[0mmetrics\u001b[0m \u001b[1;32mimport\u001b[0m \u001b[0mclassification_report\u001b[0m\u001b[1;33m\u001b[0m\u001b[0m\n\u001b[0;32m     18\u001b[0m \u001b[1;32mfrom\u001b[0m \u001b[0msklearn\u001b[0m\u001b[1;33m.\u001b[0m\u001b[0mmetrics\u001b[0m \u001b[1;32mimport\u001b[0m \u001b[0mconfusion_matrix\u001b[0m\u001b[1;33m\u001b[0m\u001b[0m\n\u001b[1;32m---> 19\u001b[1;33m \u001b[1;32mimport\u001b[0m \u001b[0mxgboost\u001b[0m \u001b[1;32mas\u001b[0m \u001b[0mxgb\u001b[0m\u001b[1;33m\u001b[0m\u001b[0m\n\u001b[0m\u001b[0;32m     20\u001b[0m \u001b[1;33m\u001b[0m\u001b[0m\n\u001b[0;32m     21\u001b[0m \u001b[0mplt\u001b[0m\u001b[1;33m.\u001b[0m\u001b[0mstyle\u001b[0m\u001b[1;33m.\u001b[0m\u001b[0muse\u001b[0m\u001b[1;33m(\u001b[0m\u001b[1;34m'ggplot'\u001b[0m\u001b[1;33m)\u001b[0m\u001b[1;33m\u001b[0m\u001b[0m\n",
      "\u001b[1;32m~\\AppData\\Local\\Continuum\\anaconda3\\lib\\site-packages\\xgboost\\__init__.py\u001b[0m in \u001b[0;36m<module>\u001b[1;34m()\u001b[0m\n\u001b[0;32m      9\u001b[0m \u001b[1;32mimport\u001b[0m \u001b[0mos\u001b[0m\u001b[1;33m\u001b[0m\u001b[0m\n\u001b[0;32m     10\u001b[0m \u001b[1;33m\u001b[0m\u001b[0m\n\u001b[1;32m---> 11\u001b[1;33m \u001b[1;32mfrom\u001b[0m \u001b[1;33m.\u001b[0m\u001b[0mcore\u001b[0m \u001b[1;32mimport\u001b[0m \u001b[0mDMatrix\u001b[0m\u001b[1;33m,\u001b[0m \u001b[0mBooster\u001b[0m\u001b[1;33m\u001b[0m\u001b[0m\n\u001b[0m\u001b[0;32m     12\u001b[0m \u001b[1;32mfrom\u001b[0m \u001b[1;33m.\u001b[0m\u001b[0mtraining\u001b[0m \u001b[1;32mimport\u001b[0m \u001b[0mtrain\u001b[0m\u001b[1;33m,\u001b[0m \u001b[0mcv\u001b[0m\u001b[1;33m\u001b[0m\u001b[0m\n\u001b[0;32m     13\u001b[0m \u001b[1;32mfrom\u001b[0m \u001b[1;33m.\u001b[0m \u001b[1;32mimport\u001b[0m \u001b[0mrabit\u001b[0m                   \u001b[1;31m# noqa\u001b[0m\u001b[1;33m\u001b[0m\u001b[0m\n",
      "\u001b[1;32m~\\AppData\\Local\\Continuum\\anaconda3\\lib\\site-packages\\xgboost\\core.py\u001b[0m in \u001b[0;36m<module>\u001b[1;34m()\u001b[0m\n\u001b[0;32m    113\u001b[0m \u001b[1;33m\u001b[0m\u001b[0m\n\u001b[0;32m    114\u001b[0m \u001b[1;31m# load the XGBoost library globally\u001b[0m\u001b[1;33m\u001b[0m\u001b[1;33m\u001b[0m\u001b[0m\n\u001b[1;32m--> 115\u001b[1;33m \u001b[0m_LIB\u001b[0m \u001b[1;33m=\u001b[0m \u001b[0m_load_lib\u001b[0m\u001b[1;33m(\u001b[0m\u001b[1;33m)\u001b[0m\u001b[1;33m\u001b[0m\u001b[0m\n\u001b[0m\u001b[0;32m    116\u001b[0m \u001b[1;33m\u001b[0m\u001b[0m\n\u001b[0;32m    117\u001b[0m \u001b[1;33m\u001b[0m\u001b[0m\n",
      "\u001b[1;32m~\\AppData\\Local\\Continuum\\anaconda3\\lib\\site-packages\\xgboost\\core.py\u001b[0m in \u001b[0;36m_load_lib\u001b[1;34m()\u001b[0m\n\u001b[0;32m    107\u001b[0m     \u001b[1;32mif\u001b[0m \u001b[0mlen\u001b[0m\u001b[1;33m(\u001b[0m\u001b[0mlib_path\u001b[0m\u001b[1;33m)\u001b[0m \u001b[1;33m==\u001b[0m \u001b[1;36m0\u001b[0m\u001b[1;33m:\u001b[0m\u001b[1;33m\u001b[0m\u001b[0m\n\u001b[0;32m    108\u001b[0m         \u001b[1;32mreturn\u001b[0m \u001b[1;32mNone\u001b[0m\u001b[1;33m\u001b[0m\u001b[0m\n\u001b[1;32m--> 109\u001b[1;33m     \u001b[0mlib\u001b[0m \u001b[1;33m=\u001b[0m \u001b[0mctypes\u001b[0m\u001b[1;33m.\u001b[0m\u001b[0mcdll\u001b[0m\u001b[1;33m.\u001b[0m\u001b[0mLoadLibrary\u001b[0m\u001b[1;33m(\u001b[0m\u001b[0mlib_path\u001b[0m\u001b[1;33m[\u001b[0m\u001b[1;36m0\u001b[0m\u001b[1;33m]\u001b[0m\u001b[1;33m)\u001b[0m\u001b[1;33m\u001b[0m\u001b[0m\n\u001b[0m\u001b[0;32m    110\u001b[0m     \u001b[0mlib\u001b[0m\u001b[1;33m.\u001b[0m\u001b[0mXGBGetLastError\u001b[0m\u001b[1;33m.\u001b[0m\u001b[0mrestype\u001b[0m \u001b[1;33m=\u001b[0m \u001b[0mctypes\u001b[0m\u001b[1;33m.\u001b[0m\u001b[0mc_char_p\u001b[0m\u001b[1;33m\u001b[0m\u001b[0m\n\u001b[0;32m    111\u001b[0m     \u001b[1;32mreturn\u001b[0m \u001b[0mlib\u001b[0m\u001b[1;33m\u001b[0m\u001b[0m\n",
      "\u001b[1;32m~\\AppData\\Local\\Continuum\\anaconda3\\lib\\ctypes\\__init__.py\u001b[0m in \u001b[0;36mLoadLibrary\u001b[1;34m(self, name)\u001b[0m\n\u001b[0;32m    424\u001b[0m \u001b[1;33m\u001b[0m\u001b[0m\n\u001b[0;32m    425\u001b[0m     \u001b[1;32mdef\u001b[0m \u001b[0mLoadLibrary\u001b[0m\u001b[1;33m(\u001b[0m\u001b[0mself\u001b[0m\u001b[1;33m,\u001b[0m \u001b[0mname\u001b[0m\u001b[1;33m)\u001b[0m\u001b[1;33m:\u001b[0m\u001b[1;33m\u001b[0m\u001b[0m\n\u001b[1;32m--> 426\u001b[1;33m         \u001b[1;32mreturn\u001b[0m \u001b[0mself\u001b[0m\u001b[1;33m.\u001b[0m\u001b[0m_dlltype\u001b[0m\u001b[1;33m(\u001b[0m\u001b[0mname\u001b[0m\u001b[1;33m)\u001b[0m\u001b[1;33m\u001b[0m\u001b[0m\n\u001b[0m\u001b[0;32m    427\u001b[0m \u001b[1;33m\u001b[0m\u001b[0m\n\u001b[0;32m    428\u001b[0m \u001b[0mcdll\u001b[0m \u001b[1;33m=\u001b[0m \u001b[0mLibraryLoader\u001b[0m\u001b[1;33m(\u001b[0m\u001b[0mCDLL\u001b[0m\u001b[1;33m)\u001b[0m\u001b[1;33m\u001b[0m\u001b[0m\n",
      "\u001b[1;32m~\\AppData\\Local\\Continuum\\anaconda3\\lib\\ctypes\\__init__.py\u001b[0m in \u001b[0;36m__init__\u001b[1;34m(self, name, mode, handle, use_errno, use_last_error)\u001b[0m\n\u001b[0;32m    346\u001b[0m \u001b[1;33m\u001b[0m\u001b[0m\n\u001b[0;32m    347\u001b[0m         \u001b[1;32mif\u001b[0m \u001b[0mhandle\u001b[0m \u001b[1;32mis\u001b[0m \u001b[1;32mNone\u001b[0m\u001b[1;33m:\u001b[0m\u001b[1;33m\u001b[0m\u001b[0m\n\u001b[1;32m--> 348\u001b[1;33m             \u001b[0mself\u001b[0m\u001b[1;33m.\u001b[0m\u001b[0m_handle\u001b[0m \u001b[1;33m=\u001b[0m \u001b[0m_dlopen\u001b[0m\u001b[1;33m(\u001b[0m\u001b[0mself\u001b[0m\u001b[1;33m.\u001b[0m\u001b[0m_name\u001b[0m\u001b[1;33m,\u001b[0m \u001b[0mmode\u001b[0m\u001b[1;33m)\u001b[0m\u001b[1;33m\u001b[0m\u001b[0m\n\u001b[0m\u001b[0;32m    349\u001b[0m         \u001b[1;32melse\u001b[0m\u001b[1;33m:\u001b[0m\u001b[1;33m\u001b[0m\u001b[0m\n\u001b[0;32m    350\u001b[0m             \u001b[0mself\u001b[0m\u001b[1;33m.\u001b[0m\u001b[0m_handle\u001b[0m \u001b[1;33m=\u001b[0m \u001b[0mhandle\u001b[0m\u001b[1;33m\u001b[0m\u001b[0m\n",
      "\u001b[1;31mOSError\u001b[0m: [WinError 126] The specified module could not be found"
     ]
    }
   ],
   "source": [
    "#load packages\n",
    "\n",
    "\n",
    "import pandas as pd\n",
    "import numpy as np\n",
    "import matplotlib.pyplot as plt\n",
    "import seaborn as sns\n",
    "from datetime import datetime\n",
    "from sklearn.model_selection import train_test_split\n",
    "from sklearn.linear_model import LogisticRegression\n",
    "from sklearn.ensemble import RandomForestClassifier\n",
    "from sklearn.model_selection import GridSearchCV\n",
    "from sklearn.preprocessing import StandardScaler, OneHotEncoder, scale\n",
    "from sklearn.pipeline import Pipeline\n",
    "from sklearn.metrics import log_loss\n",
    "from sklearn.svm import SVC\n",
    "from sklearn.metrics import classification_report\n",
    "from sklearn.metrics import confusion_matrix\n",
    "import xgboost as xgb\n",
    "\n",
    "plt.style.use('ggplot')"
   ]
  },
  {
   "cell_type": "code",
   "execution_count": 70,
   "metadata": {},
   "outputs": [],
   "source": [
    "#load data\n",
    "\n",
    "training_values = pd.read_csv('I:/Python Scripts/DataDriven/Pump it up/Training_values.csv')\n",
    "training_labels = pd.read_csv('I:/Python Scripts/DataDriven/Pump it up/Training_labels.csv')\n",
    "training = pd.merge(training_values, training_labels, how = 'inner', on ='id')\n",
    "\n",
    "train = training.set_index('id')\n",
    "\n",
    "test = pd.read_csv('I:/Python Scripts/DataDriven/Pump it up/Test.csv')"
   ]
  },
  {
   "cell_type": "markdown",
   "metadata": {},
   "source": [
    "# Eerste inzichten"
   ]
  },
  {
   "cell_type": "code",
   "execution_count": 71,
   "metadata": {},
   "outputs": [
    {
     "name": "stdout",
     "output_type": "stream",
     "text": [
      "<class 'pandas.core.frame.DataFrame'>\n",
      "Int64Index: 59400 entries, 69572 to 26348\n",
      "Data columns (total 40 columns):\n",
      "amount_tsh               59400 non-null float64\n",
      "date_recorded            59400 non-null object\n",
      "funder                   55765 non-null object\n",
      "gps_height               59400 non-null int64\n",
      "installer                55745 non-null object\n",
      "longitude                59400 non-null float64\n",
      "latitude                 59400 non-null float64\n",
      "wpt_name                 59400 non-null object\n",
      "num_private              59400 non-null int64\n",
      "basin                    59400 non-null object\n",
      "subvillage               59029 non-null object\n",
      "region                   59400 non-null object\n",
      "region_code              59400 non-null int64\n",
      "district_code            59400 non-null int64\n",
      "lga                      59400 non-null object\n",
      "ward                     59400 non-null object\n",
      "population               59400 non-null int64\n",
      "public_meeting           56066 non-null object\n",
      "recorded_by              59400 non-null object\n",
      "scheme_management        55523 non-null object\n",
      "scheme_name              31234 non-null object\n",
      "permit                   56344 non-null object\n",
      "construction_year        59400 non-null int64\n",
      "extraction_type          59400 non-null object\n",
      "extraction_type_group    59400 non-null object\n",
      "extraction_type_class    59400 non-null object\n",
      "management               59400 non-null object\n",
      "management_group         59400 non-null object\n",
      "payment                  59400 non-null object\n",
      "payment_type             59400 non-null object\n",
      "water_quality            59400 non-null object\n",
      "quality_group            59400 non-null object\n",
      "quantity                 59400 non-null object\n",
      "quantity_group           59400 non-null object\n",
      "source                   59400 non-null object\n",
      "source_type              59400 non-null object\n",
      "source_class             59400 non-null object\n",
      "waterpoint_type          59400 non-null object\n",
      "waterpoint_type_group    59400 non-null object\n",
      "status_group             59400 non-null object\n",
      "dtypes: float64(3), int64(6), object(31)\n",
      "memory usage: 18.6+ MB\n",
      "None\n",
      "          amount_tsh    gps_height     longitude      latitude   num_private  \\\n",
      "count   59400.000000  59400.000000  59400.000000  5.940000e+04  59400.000000   \n",
      "mean      317.650385    668.297239     34.077427 -5.706033e+00      0.474141   \n",
      "std      2997.574558    693.116350      6.567432  2.946019e+00     12.236230   \n",
      "min         0.000000    -90.000000      0.000000 -1.164944e+01      0.000000   \n",
      "25%         0.000000      0.000000     33.090347 -8.540621e+00      0.000000   \n",
      "50%         0.000000    369.000000     34.908743 -5.021597e+00      0.000000   \n",
      "75%        20.000000   1319.250000     37.178387 -3.326156e+00      0.000000   \n",
      "max    350000.000000   2770.000000     40.345193 -2.000000e-08   1776.000000   \n",
      "\n",
      "        region_code  district_code    population  construction_year  \n",
      "count  59400.000000   59400.000000  59400.000000       59400.000000  \n",
      "mean      15.297003       5.629747    179.909983        1300.652475  \n",
      "std       17.587406       9.633649    471.482176         951.620547  \n",
      "min        1.000000       0.000000      0.000000           0.000000  \n",
      "25%        5.000000       2.000000      0.000000           0.000000  \n",
      "50%       12.000000       3.000000     25.000000        1986.000000  \n",
      "75%       17.000000       5.000000    215.000000        2004.000000  \n",
      "max       99.000000      80.000000  30500.000000        2013.000000  \n"
     ]
    }
   ],
   "source": [
    "#eerste inzichten (in train)\n",
    "\n",
    "train.shape\n",
    "\n",
    "train.head()\n",
    "\n",
    "print(train.info())\n",
    "\n",
    "print(train.describe())"
   ]
  },
  {
   "cell_type": "markdown",
   "metadata": {},
   "source": [
    "Aantal kolommen hebben missing data. Daarnaast zijn er meerdere kolommen, zoals construction year, die geen missing data hebben omdat NA is gevuld met 0 (wat in dit geval niet de meest logische oplossing is). Met beide moet dus iets gebeuren."
   ]
  },
  {
   "cell_type": "markdown",
   "metadata": {},
   "source": [
    "# Eerste visuele inzichten\n"
   ]
  },
  {
   "cell_type": "markdown",
   "metadata": {},
   "source": [
    "## target\n",
    "\n"
   ]
  },
  {
   "cell_type": "code",
   "execution_count": 72,
   "metadata": {},
   "outputs": [
    {
     "data": {
      "text/plain": [
       "<matplotlib.axes._subplots.AxesSubplot at 0x25302c0a278>"
      ]
     },
     "execution_count": 72,
     "metadata": {},
     "output_type": "execute_result"
    },
    {
     "data": {
      "image/png": "[encoded data removed]",
      "text/plain": [
       "<Figure size 432x288 with 1 Axes>"
      ]
     },
     "metadata": {},
     "output_type": "display_data"
    }
   ],
   "source": [
    "sns.countplot( x = \"status_group\", data = train)"
   ]
  },
  {
   "cell_type": "markdown",
   "metadata": {},
   "source": [
    "## Amount tsh (amount of water available)"
   ]
  },
  {
   "cell_type": "code",
   "execution_count": 73,
   "metadata": {
    "scrolled": true
   },
   "outputs": [
    {
     "data": {
      "text/plain": [
       "<matplotlib.axes._subplots.AxesSubplot at 0x2530237b940>"
      ]
     },
     "execution_count": 73,
     "metadata": {},
     "output_type": "execute_result"
    },
    {
     "data": {
      "image/png": "[encoded data removed]",
      "text/plain": [
       "<Figure size 432x288 with 1 Axes>"
      ]
     },
     "metadata": {},
     "output_type": "display_data"
    }
   ],
   "source": [
    "grouped = train.groupby('status_group').mean().reset_index()\n",
    "\n",
    "sns.barplot(x = \"status_group\", y = \"amount_tsh\", data = grouped)\n"
   ]
  },
  {
   "cell_type": "code",
   "execution_count": 76,
   "metadata": {},
   "outputs": [
    {
     "data": {
      "text/plain": [
       "'Gemiddeld meer water in funcationeele waterpompen'"
      ]
     },
     "execution_count": 76,
     "metadata": {},
     "output_type": "execute_result"
    }
   ],
   "source": [
    "\"Gemiddeld meer water in funcationeele waterpompen\""
   ]
  },
  {
   "cell_type": "markdown",
   "metadata": {},
   "source": [
    "## Populatie"
   ]
  },
  {
   "cell_type": "code",
   "execution_count": 77,
   "metadata": {},
   "outputs": [
    {
     "data": {
      "text/plain": [
       "<matplotlib.axes._subplots.AxesSubplot at 0x25302e0cb00>"
      ]
     },
     "execution_count": 77,
     "metadata": {},
     "output_type": "execute_result"
    },
    {
     "data": {
      "image/png": "[encoded data removed]",
      "text/plain": [
       "<Figure size 432x288 with 1 Axes>"
      ]
     },
     "metadata": {},
     "output_type": "display_data"
    }
   ],
   "source": [
    "\n",
    "grouped = train.groupby('status_group').median().reset_index()\n",
    "\n",
    "sns.barplot(x = 'status_group', y = 'population', data = grouped)\n",
    "\n"
   ]
  },
  {
   "cell_type": "markdown",
   "metadata": {},
   "source": [
    "Erg lage populatie bij kapotte waterpompen (logisch?)"
   ]
  },
  {
   "cell_type": "code",
   "execution_count": 78,
   "metadata": {},
   "outputs": [
    {
     "data": {
      "text/plain": [
       "(array([ 0,  1,  2,  3,  4,  5,  6,  7,  8,  9, 10, 11, 12, 13, 14, 15, 16,\n",
       "        17, 18, 19, 20]), <a list of 21 Text xticklabel objects>)"
      ]
     },
     "execution_count": 78,
     "metadata": {},
     "output_type": "execute_result"
    },
    {
     "data": {
      "image/png": "[encoded data removed]",
      "text/plain": [
       "<Figure size 432x288 with 1 Axes>"
      ]
     },
     "metadata": {},
     "output_type": "display_data"
    }
   ],
   "source": [
    "#funder\n",
    "_= sns.countplot( x = \"region\", data = train)\n",
    "plt.xticks(rotation = 30)"
   ]
  },
  {
   "cell_type": "markdown",
   "metadata": {},
   "source": [
    "## Correlatie matrix om de verbanden tussen numerieke features te bekijken"
   ]
  },
  {
   "cell_type": "code",
   "execution_count": 79,
   "metadata": {},
   "outputs": [
    {
     "data": {
      "text/plain": [
       "<matplotlib.axes._subplots.AxesSubplot at 0x25301ef5908>"
      ]
     },
     "execution_count": 79,
     "metadata": {},
     "output_type": "execute_result"
    },
    {
     "data": {
      "image/png": "[encoded data removed]",
      "text/plain": [
       "<Figure size 432x288 with 2 Axes>"
      ]
     },
     "metadata": {},
     "output_type": "display_data"
    }
   ],
   "source": [
    "\n",
    "filtered = train.loc[:,train.columns.str.contains('code') == False]\n",
    "corr = filtered.corr()\n",
    "\n",
    "cmap = sns.diverging_palette(220, 10, as_cmap=True)\n",
    "sns.heatmap(corr, cmap = cmap, square = True, linewidth = .3)"
   ]
  },
  {
   "cell_type": "code",
   "execution_count": 80,
   "metadata": {},
   "outputs": [
    {
     "data": {
      "text/plain": [
       "amount_tsh                   0\n",
       "date_recorded                0\n",
       "funder                    3635\n",
       "gps_height                   0\n",
       "installer                 3655\n",
       "longitude                    0\n",
       "latitude                     0\n",
       "wpt_name                     0\n",
       "num_private                  0\n",
       "basin                        0\n",
       "subvillage                 371\n",
       "region                       0\n",
       "region_code                  0\n",
       "district_code                0\n",
       "lga                          0\n",
       "ward                         0\n",
       "population                   0\n",
       "public_meeting            3334\n",
       "recorded_by                  0\n",
       "scheme_management         3877\n",
       "scheme_name              28166\n",
       "permit                    3056\n",
       "construction_year            0\n",
       "extraction_type              0\n",
       "extraction_type_group        0\n",
       "extraction_type_class        0\n",
       "management                   0\n",
       "management_group             0\n",
       "payment                      0\n",
       "payment_type                 0\n",
       "water_quality                0\n",
       "quality_group                0\n",
       "quantity                     0\n",
       "quantity_group               0\n",
       "source                       0\n",
       "source_type                  0\n",
       "source_class                 0\n",
       "waterpoint_type              0\n",
       "waterpoint_type_group        0\n",
       "status_group                 0\n",
       "dtype: int64"
      ]
     },
     "execution_count": 80,
     "metadata": {},
     "output_type": "execute_result"
    }
   ],
   "source": [
    "#kijken naar NA\n",
    "train.isnull().sum()\n"
   ]
  },
  {
   "cell_type": "code",
   "execution_count": 81,
   "metadata": {},
   "outputs": [
    {
     "name": "stdout",
     "output_type": "stream",
     "text": [
      "scheme_management  scheme_name                 \n",
      "Company            BFFS                              1\n",
      "                   Bagamoyo Wate                    60\n",
      "                   Bagamoyo wate                   210\n",
      "                   Borehole                          1\n",
      "                   Borehole drilling project         1\n",
      "                   Bulamba piped scheme              2\n",
      "                   Burieni water supply              1\n",
      "                   Doe water supply                  3\n",
      "                   EKTM 2 water  supply              1\n",
      "                   EKTM 2 water suply               25\n",
      "                   EKTM 2 water supply               9\n",
      "                   EKTM 3 water supply              51\n",
      "                   Fufulamsuri water supply          1\n",
      "                   GRUMETI                           6\n",
      "                   HESAWA                            1\n",
      "                   Hakwe water supply               10\n",
      "                   Holili water supply              23\n",
      "                   I                                 1\n",
      "                   IKTM 2                            1\n",
      "                   IKTM 2 water supply               1\n",
      "                   IKTM 3 water supply               1\n",
      "                   Ibukoni kimanga water supply      1\n",
      "                   Iburieni water supply             6\n",
      "                   Ihum                              1\n",
      "                   Ikela Wa                         89\n",
      "                   It                                1\n",
      "                   Kamdawi water supply              8\n",
      "                   Kandika water supply              4\n",
      "                   Kaseni water supply               1\n",
      "                   Kastamu water supply              8\n",
      "                                                  ... \n",
      "Water authority    Shirimatunda Water Supply        16\n",
      "                   Shirimatunda water Supply        58\n",
      "                   Shirimatunda water supply         1\n",
      "                   Singino                           1\n",
      "                   Sinyanga water supplied sch       4\n",
      "                   Submersible                       1\n",
      "                   Sui                               1\n",
      "                   Suwasa water supply               8\n",
      "                   TWESA                             1\n",
      "                   Tank fu Mwenge                    1\n",
      "                   Tank fupi Mwenge                  8\n",
      "                   Tank refu Kasokola                4\n",
      "                   Tank refu Mtakuja                 6\n",
      "                   Tank refu Sitalike                7\n",
      "                   Tungu water piped scheme          1\n",
      "                   Tutu                             25\n",
      "                   UWAMAMA                           4\n",
      "                   Urambo water supply              15\n",
      "                   Vumari water supply              11\n",
      "                   Vunta water supply               11\n",
      "                   WD                                1\n",
      "                   Water from DAWASCO               28\n",
      "                   World Bank                       60\n",
      "                   World Vision                      8\n",
      "                   World vision                      1\n",
      "                   Yongoma                          16\n",
      "                   Zepalama                          5\n",
      "                   no scheme                         9\n",
      "                   pump                              2\n",
      "                   water supply at Kalebejo          1\n",
      "Length: 3077, dtype: int64\n"
     ]
    }
   ],
   "source": [
    "#scheme\n",
    "print(train.groupby(['scheme_management', 'scheme_name']).size())\n",
    "\n",
    "train['scheme_management'].fillna('other', inplace = True)"
   ]
  },
  {
   "cell_type": "code",
   "execution_count": 82,
   "metadata": {},
   "outputs": [
    {
     "name": "stdout",
     "output_type": "stream",
     "text": [
      "waterpoint_type              waterpoint_type_group\n",
      "cattle trough                cattle trough              116\n",
      "communal standpipe           communal standpipe       28522\n",
      "communal standpipe multiple  communal standpipe        6103\n",
      "dam                          dam                          7\n",
      "hand pump                    hand pump                17488\n",
      "improved spring              improved spring            784\n",
      "other                        other                     6380\n",
      "dtype: int64\n"
     ]
    }
   ],
   "source": [
    "#waterpoint\n",
    "print(train.groupby(['waterpoint_type', 'waterpoint_type_group']).size())\n"
   ]
  },
  {
   "cell_type": "code",
   "execution_count": 83,
   "metadata": {},
   "outputs": [
    {
     "name": "stdout",
     "output_type": "stream",
     "text": [
      "extraction_type            extraction_type_group  extraction_type_class\n",
      "afridev                    afridev                handpump                  1770\n",
      "cemo                       other motorpump        motorpump                   90\n",
      "climax                     other motorpump        motorpump                   32\n",
      "gravity                    gravity                gravity                  26780\n",
      "india mark ii              india mark ii          handpump                  2400\n",
      "india mark iii             india mark iii         handpump                    98\n",
      "ksb                        submersible            submersible               1415\n",
      "mono                       mono                   motorpump                 2865\n",
      "nira/tanira                nira/tanira            handpump                  8154\n",
      "other                      other                  other                     6430\n",
      "other - mkulima/shinyanga  other handpump         handpump                     2\n",
      "other - play pump          other handpump         handpump                    85\n",
      "other - rope pump          rope pump              rope pump                  451\n",
      "other - swn 81             other handpump         handpump                   229\n",
      "submersible                submersible            submersible               4764\n",
      "swn 80                     swn 80                 handpump                  3670\n",
      "walimi                     other handpump         handpump                    48\n",
      "windmill                   wind-powered           wind-powered               117\n",
      "dtype: int64\n"
     ]
    }
   ],
   "source": [
    "print(train.groupby(['extraction_type', 'extraction_type_group', 'extraction_type_class']).size())\n"
   ]
  },
  {
   "cell_type": "code",
   "execution_count": 84,
   "metadata": {},
   "outputs": [
    {
     "name": "stdout",
     "output_type": "stream",
     "text": [
      "management        management_group\n",
      "company           commercial            685\n",
      "other             other                 844\n",
      "other - school    other                  99\n",
      "parastatal        parastatal           1768\n",
      "private operator  commercial           1971\n",
      "trust             commercial             78\n",
      "unknown           unknown               561\n",
      "vwc               user-group          40507\n",
      "water authority   commercial            904\n",
      "water board       user-group           2933\n",
      "wua               user-group           2535\n",
      "wug               user-group           6515\n",
      "dtype: int64\n"
     ]
    }
   ],
   "source": [
    "#management\n",
    "print(train.groupby(['management', 'management_group']).size())\n"
   ]
  },
  {
   "cell_type": "code",
   "execution_count": 85,
   "metadata": {},
   "outputs": [
    {
     "name": "stdout",
     "output_type": "stream",
     "text": [
      "public_meeting\n",
      "False     5055\n",
      "True     51011\n",
      "dtype: int64\n"
     ]
    }
   ],
   "source": [
    "print(train.groupby(['public_meeting']).size())"
   ]
  },
  {
   "cell_type": "markdown",
   "metadata": {},
   "source": [
    "# Feature engineering "
   ]
  },
  {
   "cell_type": "markdown",
   "metadata": {},
   "source": [
    "## Construction year; van 0.0 naar NA en dan imputen obv median"
   ]
  },
  {
   "cell_type": "code",
   "execution_count": 86,
   "metadata": {},
   "outputs": [
    {
     "name": "stdout",
     "output_type": "stream",
     "text": [
      "amount_tsh                   0\n",
      "date_recorded                0\n",
      "funder                    3635\n",
      "gps_height                   0\n",
      "installer                 3655\n",
      "longitude                    0\n",
      "latitude                     0\n",
      "wpt_name                     0\n",
      "num_private                  0\n",
      "basin                        0\n",
      "subvillage                 371\n",
      "region                       0\n",
      "region_code                  0\n",
      "district_code                0\n",
      "lga                          0\n",
      "ward                         0\n",
      "population                   0\n",
      "public_meeting            3334\n",
      "recorded_by                  0\n",
      "scheme_management            0\n",
      "scheme_name              28166\n",
      "permit                    3056\n",
      "construction_year            0\n",
      "extraction_type              0\n",
      "extraction_type_group        0\n",
      "extraction_type_class        0\n",
      "management                   0\n",
      "management_group             0\n",
      "payment                      0\n",
      "payment_type                 0\n",
      "water_quality                0\n",
      "quality_group                0\n",
      "quantity                     0\n",
      "quantity_group               0\n",
      "source                       0\n",
      "source_type                  0\n",
      "source_class                 0\n",
      "waterpoint_type              0\n",
      "waterpoint_type_group        0\n",
      "status_group                 0\n",
      "dtype: int64\n",
      "construction_year\n",
      "1960.0      102\n",
      "1961.0       21\n",
      "1962.0       30\n",
      "1963.0       85\n",
      "1964.0       40\n",
      "1965.0       19\n",
      "1966.0       17\n",
      "1967.0       88\n",
      "1968.0       77\n",
      "1969.0       59\n",
      "1970.0      411\n",
      "1971.0      145\n",
      "1972.0      708\n",
      "1973.0      184\n",
      "1974.0      676\n",
      "1975.0      437\n",
      "1976.0      414\n",
      "1977.0      202\n",
      "1978.0     1037\n",
      "1979.0      192\n",
      "1980.0      832\n",
      "1981.0      238\n",
      "1982.0      751\n",
      "1983.0      488\n",
      "1984.0      779\n",
      "1985.0     1035\n",
      "1986.0      434\n",
      "1987.0      303\n",
      "1988.0      571\n",
      "1989.0      316\n",
      "1990.0     1064\n",
      "1991.0      324\n",
      "1992.0      640\n",
      "1993.0      610\n",
      "1994.0      738\n",
      "1994.5        4\n",
      "1995.0     3604\n",
      "1996.0      883\n",
      "1997.0      650\n",
      "1998.0      982\n",
      "1999.0     1011\n",
      "2000.0    14591\n",
      "2001.0      545\n",
      "2001.5        8\n",
      "2002.0     1149\n",
      "2003.0     1305\n",
      "2004.0     1132\n",
      "2005.0     5855\n",
      "2006.0     1492\n",
      "2007.0     1766\n",
      "2008.0     2642\n",
      "2009.0     2536\n",
      "2010.0     2662\n",
      "2011.0     1256\n",
      "2012.0     1084\n",
      "2013.0      176\n",
      "dtype: int64\n"
     ]
    }
   ],
   "source": [
    "train['construction_year'].replace(0.0, np.nan, inplace=True)\n",
    "train[\"construction_year\"].fillna(train.groupby(['region', 'district_code'])[\"construction_year\"].transform(lambda x: x.fillna(x.median())), inplace=True)\n",
    "train[\"construction_year\"].fillna(train.groupby(['region'])[\"construction_year\"].transform(lambda x: x.fillna(x.median())), inplace=True)\n",
    "train[\"construction_year\"].fillna(train[\"construction_year\"].transform(lambda x: x.fillna(x.median())), inplace=True)\n",
    "print(train.isnull().sum())\n",
    "print(train.groupby(['construction_year']).size())"
   ]
  },
  {
   "cell_type": "markdown",
   "metadata": {},
   "source": [
    "## Omzetten naar jaar en dan berekenen van leeftijd van de put"
   ]
  },
  {
   "cell_type": "code",
   "execution_count": 87,
   "metadata": {},
   "outputs": [
    {
     "name": "stdout",
     "output_type": "stream",
     "text": [
      "                age  date_recorded_year\n",
      "count  59400.000000        59400.000000\n",
      "mean      13.839545         2011.921667\n",
      "std       10.466709            0.958758\n",
      "min       -7.000000         2002.000000\n",
      "25%        7.000000         2011.000000\n",
      "50%       11.000000         2012.000000\n",
      "75%       17.000000         2013.000000\n",
      "max       53.000000         2013.000000\n"
     ]
    }
   ],
   "source": [
    "train['date_recorded_year'] = pd.to_datetime(train['date_recorded']).apply(lambda x: x.year)\n",
    "\n",
    "train['age'] = train['date_recorded_year'] - train['construction_year']\n",
    "#train['age'] = train[train['age'] < 0 ] = -999\n",
    "                 \n",
    "print(train[['age', 'date_recorded_year']].describe())\n",
    "\n",
    "\n"
   ]
  },
  {
   "cell_type": "code",
   "execution_count": 88,
   "metadata": {},
   "outputs": [
    {
     "data": {
      "text/plain": [
       "Index(['amount_tsh', 'date_recorded', 'funder', 'gps_height', 'installer',\n",
       "       'longitude', 'latitude', 'wpt_name', 'num_private', 'basin',\n",
       "       'subvillage', 'region', 'region_code', 'district_code', 'lga', 'ward',\n",
       "       'population', 'public_meeting', 'recorded_by', 'scheme_management',\n",
       "       'scheme_name', 'permit', 'construction_year', 'extraction_type',\n",
       "       'extraction_type_group', 'extraction_type_class', 'management',\n",
       "       'management_group', 'payment', 'payment_type', 'water_quality',\n",
       "       'quality_group', 'quantity', 'quantity_group', 'source', 'source_type',\n",
       "       'source_class', 'waterpoint_type', 'waterpoint_type_group',\n",
       "       'status_group', 'date_recorded_year', 'age'],\n",
       "      dtype='object')"
      ]
     },
     "execution_count": 88,
     "metadata": {},
     "output_type": "execute_result"
    }
   ],
   "source": [
    "train.columns\n"
   ]
  },
  {
   "cell_type": "markdown",
   "metadata": {},
   "source": [
    "# Feature selection en scalen"
   ]
  },
  {
   "cell_type": "code",
   "execution_count": 89,
   "metadata": {},
   "outputs": [],
   "source": [
    "\n",
    "#van NA naar 0\n",
    "train['funder'].fillna('other', inplace = True)\n",
    "train['installer'].fillna('other', inplace = True)\n",
    "\n",
    "\n",
    "#drop factors\n",
    "train.drop(['subvillage', 'permit', 'public_meeting', 'wpt_name', 'num_private', 'region', 'scheme_name', \n",
    "            'extraction_type', 'payment', 'source_type', 'ward', 'date_recorded' ], axis = 1, inplace = True)\n",
    "\n",
    "#scale data\n",
    "scaler = StandardScaler()\n",
    "\n",
    "cols_to_scale = ['amount_tsh', 'population', 'age']\n",
    "train[['amount_tsh', 'population', 'age']] = scaler.fit_transform(train[['amount_tsh', 'population', 'age']])"
   ]
  },
  {
   "cell_type": "code",
   "execution_count": null,
   "metadata": {},
   "outputs": [],
   "source": []
  },
  {
   "cell_type": "code",
   "execution_count": 90,
   "metadata": {},
   "outputs": [
    {
     "data": {
      "text/plain": [
       "amount_tsh               0\n",
       "funder                   0\n",
       "gps_height               0\n",
       "installer                0\n",
       "longitude                0\n",
       "latitude                 0\n",
       "basin                    0\n",
       "region_code              0\n",
       "district_code            0\n",
       "lga                      0\n",
       "population               0\n",
       "recorded_by              0\n",
       "scheme_management        0\n",
       "construction_year        0\n",
       "extraction_type_group    0\n",
       "extraction_type_class    0\n",
       "management               0\n",
       "management_group         0\n",
       "payment_type             0\n",
       "water_quality            0\n",
       "quality_group            0\n",
       "quantity                 0\n",
       "quantity_group           0\n",
       "source                   0\n",
       "source_class             0\n",
       "waterpoint_type          0\n",
       "waterpoint_type_group    0\n",
       "status_group             0\n",
       "date_recorded_year       0\n",
       "age                      0\n",
       "dtype: int64"
      ]
     },
     "execution_count": 90,
     "metadata": {},
     "output_type": "execute_result"
    }
   ],
   "source": [
    "train.isnull().sum()"
   ]
  },
  {
   "cell_type": "code",
   "execution_count": 91,
   "metadata": {},
   "outputs": [],
   "source": [
    "#test data aanpassen \n",
    "test.set_index('id', inplace = True)\n",
    "\n",
    "\n",
    "test[\"construction_year\"].fillna(test.groupby(['region', 'district_code'])[\"construction_year\"].transform(lambda x: x.fillna(x.median())), inplace=True)\n",
    "test[\"construction_year\"].fillna(test.groupby(['region'])[\"construction_year\"].transform(lambda x: x.fillna(x.median())), inplace=True)\n",
    "test[\"construction_year\"].fillna(test[\"construction_year\"].transform(lambda x: x.fillna(x.median())), inplace=True)\n",
    "\n",
    "\n",
    "test['date_recorded_year'] = pd.to_datetime(test['date_recorded']).apply(lambda x: x.year)\n",
    "\n",
    "test['age'] = test['date_recorded_year'] - test['construction_year']\n",
    "\n",
    "#van NA naar 0\n",
    "test['funder'].fillna('other', inplace = True)\n",
    "test['installer'].fillna('other', inplace = True)\n",
    "test['scheme_management'].fillna('other', inplace = True)\n",
    "\n",
    "#drop factors\n",
    "test.drop(['subvillage', 'permit', 'public_meeting', 'wpt_name', 'num_private', 'region', 'scheme_name', \n",
    "            'extraction_type', 'payment', 'source_type', 'ward' , 'date_recorded'], axis = 1, inplace = True)\n",
    "\n",
    "#Scale \n",
    "test[['amount_tsh', 'population', 'age']] = scaler.fit_transform(test[['amount_tsh', 'population', 'age']])"
   ]
  },
  {
   "cell_type": "markdown",
   "metadata": {},
   "source": [
    "# Union van test en train\n",
    "## Hiermee worden de dummies correct gemaakt (anders zit er verschil tussen test en train qua features)"
   ]
  },
  {
   "cell_type": "code",
   "execution_count": 92,
   "metadata": {},
   "outputs": [
    {
     "name": "stderr",
     "output_type": "stream",
     "text": [
      "C:\\Users\\nspeldekamp\\AppData\\Local\\Continuum\\anaconda3\\lib\\site-packages\\ipykernel_launcher.py:3: FutureWarning: Sorting because non-concatenation axis is not aligned. A future version\n",
      "of pandas will change to not sort by default.\n",
      "\n",
      "To accept the future behavior, pass 'sort=True'.\n",
      "\n",
      "To retain the current behavior and silence the warning, pass sort=False\n",
      "\n",
      "  This is separate from the ipykernel package so we can avoid doing imports until\n"
     ]
    }
   ],
   "source": [
    "\n",
    "train_objs_num = len(train)\n",
    "dataset = pd.concat(objs=[train, test], axis=0)\n",
    "\n",
    "dataset_preprocessed = pd.get_dummies(dataset.loc[:,dataset.columns != 'status_group'], drop_first = True)\n",
    "train_preprocessed = dataset_preprocessed[:train_objs_num]\n",
    "test_preprocessed = dataset_preprocessed[train_objs_num:]\n",
    "\n"
   ]
  },
  {
   "cell_type": "code",
   "execution_count": 19,
   "metadata": {},
   "outputs": [
    {
     "data": {
      "text/html": [
       "<div>\n",
       "<style scoped>\n",
       "    .dataframe tbody tr th:only-of-type {\n",
       "        vertical-align: middle;\n",
       "    }\n",
       "\n",
       "    .dataframe tbody tr th {\n",
       "        vertical-align: top;\n",
       "    }\n",
       "\n",
       "    .dataframe thead th {\n",
       "        text-align: right;\n",
       "    }\n",
       "</style>\n",
       "<table border=\"1\" class=\"dataframe\">\n",
       "  <thead>\n",
       "    <tr style=\"text-align: right;\">\n",
       "      <th></th>\n",
       "      <th>amount_tsh</th>\n",
       "      <th>construction_year</th>\n",
       "      <th>district_code</th>\n",
       "      <th>gps_height</th>\n",
       "      <th>latitude</th>\n",
       "      <th>longitude</th>\n",
       "      <th>population</th>\n",
       "      <th>region_code</th>\n",
       "      <th>basin_Lake Nyasa</th>\n",
       "      <th>basin_Lake Rukwa</th>\n",
       "      <th>...</th>\n",
       "      <th>waterpoint_type_communal standpipe multiple</th>\n",
       "      <th>waterpoint_type_dam</th>\n",
       "      <th>waterpoint_type_hand pump</th>\n",
       "      <th>waterpoint_type_improved spring</th>\n",
       "      <th>waterpoint_type_other</th>\n",
       "      <th>waterpoint_type_group_communal standpipe</th>\n",
       "      <th>waterpoint_type_group_dam</th>\n",
       "      <th>waterpoint_type_group_hand pump</th>\n",
       "      <th>waterpoint_type_group_improved spring</th>\n",
       "      <th>waterpoint_type_group_other</th>\n",
       "    </tr>\n",
       "    <tr>\n",
       "      <th>id</th>\n",
       "      <th></th>\n",
       "      <th></th>\n",
       "      <th></th>\n",
       "      <th></th>\n",
       "      <th></th>\n",
       "      <th></th>\n",
       "      <th></th>\n",
       "      <th></th>\n",
       "      <th></th>\n",
       "      <th></th>\n",
       "      <th></th>\n",
       "      <th></th>\n",
       "      <th></th>\n",
       "      <th></th>\n",
       "      <th></th>\n",
       "      <th></th>\n",
       "      <th></th>\n",
       "      <th></th>\n",
       "      <th></th>\n",
       "      <th></th>\n",
       "      <th></th>\n",
       "    </tr>\n",
       "  </thead>\n",
       "  <tbody>\n",
       "    <tr>\n",
       "      <th>50785</th>\n",
       "      <td>-0.128571</td>\n",
       "      <td>2012</td>\n",
       "      <td>3</td>\n",
       "      <td>1996</td>\n",
       "      <td>-4.059696</td>\n",
       "      <td>35.290799</td>\n",
       "      <td>0.291567</td>\n",
       "      <td>21</td>\n",
       "      <td>0</td>\n",
       "      <td>0</td>\n",
       "      <td>...</td>\n",
       "      <td>0</td>\n",
       "      <td>0</td>\n",
       "      <td>0</td>\n",
       "      <td>0</td>\n",
       "      <td>1</td>\n",
       "      <td>0</td>\n",
       "      <td>0</td>\n",
       "      <td>0</td>\n",
       "      <td>0</td>\n",
       "      <td>1</td>\n",
       "    </tr>\n",
       "    <tr>\n",
       "      <th>51630</th>\n",
       "      <td>-0.128571</td>\n",
       "      <td>2000</td>\n",
       "      <td>2</td>\n",
       "      <td>1569</td>\n",
       "      <td>-3.309214</td>\n",
       "      <td>36.656709</td>\n",
       "      <td>0.246837</td>\n",
       "      <td>2</td>\n",
       "      <td>0</td>\n",
       "      <td>0</td>\n",
       "      <td>...</td>\n",
       "      <td>0</td>\n",
       "      <td>0</td>\n",
       "      <td>0</td>\n",
       "      <td>0</td>\n",
       "      <td>0</td>\n",
       "      <td>1</td>\n",
       "      <td>0</td>\n",
       "      <td>0</td>\n",
       "      <td>0</td>\n",
       "      <td>0</td>\n",
       "    </tr>\n",
       "    <tr>\n",
       "      <th>17168</th>\n",
       "      <td>-0.128571</td>\n",
       "      <td>2010</td>\n",
       "      <td>2</td>\n",
       "      <td>1567</td>\n",
       "      <td>-5.004344</td>\n",
       "      <td>34.767863</td>\n",
       "      <td>0.672837</td>\n",
       "      <td>13</td>\n",
       "      <td>0</td>\n",
       "      <td>0</td>\n",
       "      <td>...</td>\n",
       "      <td>0</td>\n",
       "      <td>0</td>\n",
       "      <td>0</td>\n",
       "      <td>0</td>\n",
       "      <td>1</td>\n",
       "      <td>0</td>\n",
       "      <td>0</td>\n",
       "      <td>0</td>\n",
       "      <td>0</td>\n",
       "      <td>1</td>\n",
       "    </tr>\n",
       "    <tr>\n",
       "      <th>45559</th>\n",
       "      <td>-0.128571</td>\n",
       "      <td>1987</td>\n",
       "      <td>43</td>\n",
       "      <td>267</td>\n",
       "      <td>-9.418672</td>\n",
       "      <td>38.058046</td>\n",
       "      <td>0.140337</td>\n",
       "      <td>80</td>\n",
       "      <td>0</td>\n",
       "      <td>0</td>\n",
       "      <td>...</td>\n",
       "      <td>0</td>\n",
       "      <td>0</td>\n",
       "      <td>0</td>\n",
       "      <td>0</td>\n",
       "      <td>1</td>\n",
       "      <td>0</td>\n",
       "      <td>0</td>\n",
       "      <td>0</td>\n",
       "      <td>0</td>\n",
       "      <td>1</td>\n",
       "    </tr>\n",
       "    <tr>\n",
       "      <th>49871</th>\n",
       "      <td>0.070562</td>\n",
       "      <td>2000</td>\n",
       "      <td>3</td>\n",
       "      <td>1260</td>\n",
       "      <td>-10.950412</td>\n",
       "      <td>35.006123</td>\n",
       "      <td>-0.264363</td>\n",
       "      <td>10</td>\n",
       "      <td>0</td>\n",
       "      <td>0</td>\n",
       "      <td>...</td>\n",
       "      <td>0</td>\n",
       "      <td>0</td>\n",
       "      <td>0</td>\n",
       "      <td>0</td>\n",
       "      <td>0</td>\n",
       "      <td>1</td>\n",
       "      <td>0</td>\n",
       "      <td>0</td>\n",
       "      <td>0</td>\n",
       "      <td>0</td>\n",
       "    </tr>\n",
       "  </tbody>\n",
       "</table>\n",
       "<p>5 rows × 4783 columns</p>\n",
       "</div>"
      ],
      "text/plain": [
       "       amount_tsh  construction_year  district_code  gps_height   latitude  \\\n",
       "id                                                                           \n",
       "50785   -0.128571               2012              3        1996  -4.059696   \n",
       "51630   -0.128571               2000              2        1569  -3.309214   \n",
       "17168   -0.128571               2010              2        1567  -5.004344   \n",
       "45559   -0.128571               1987             43         267  -9.418672   \n",
       "49871    0.070562               2000              3        1260 -10.950412   \n",
       "\n",
       "       longitude  population  region_code  basin_Lake Nyasa  basin_Lake Rukwa  \\\n",
       "id                                                                              \n",
       "50785  35.290799    0.291567           21                 0                 0   \n",
       "51630  36.656709    0.246837            2                 0                 0   \n",
       "17168  34.767863    0.672837           13                 0                 0   \n",
       "45559  38.058046    0.140337           80                 0                 0   \n",
       "49871  35.006123   -0.264363           10                 0                 0   \n",
       "\n",
       "                  ...               \\\n",
       "id                ...                \n",
       "50785             ...                \n",
       "51630             ...                \n",
       "17168             ...                \n",
       "45559             ...                \n",
       "49871             ...                \n",
       "\n",
       "       waterpoint_type_communal standpipe multiple  waterpoint_type_dam  \\\n",
       "id                                                                        \n",
       "50785                                            0                    0   \n",
       "51630                                            0                    0   \n",
       "17168                                            0                    0   \n",
       "45559                                            0                    0   \n",
       "49871                                            0                    0   \n",
       "\n",
       "       waterpoint_type_hand pump  waterpoint_type_improved spring  \\\n",
       "id                                                                  \n",
       "50785                          0                                0   \n",
       "51630                          0                                0   \n",
       "17168                          0                                0   \n",
       "45559                          0                                0   \n",
       "49871                          0                                0   \n",
       "\n",
       "       waterpoint_type_other  waterpoint_type_group_communal standpipe  \\\n",
       "id                                                                       \n",
       "50785                      1                                         0   \n",
       "51630                      0                                         1   \n",
       "17168                      1                                         0   \n",
       "45559                      1                                         0   \n",
       "49871                      0                                         1   \n",
       "\n",
       "       waterpoint_type_group_dam  waterpoint_type_group_hand pump  \\\n",
       "id                                                                  \n",
       "50785                          0                                0   \n",
       "51630                          0                                0   \n",
       "17168                          0                                0   \n",
       "45559                          0                                0   \n",
       "49871                          0                                0   \n",
       "\n",
       "       waterpoint_type_group_improved spring  waterpoint_type_group_other  \n",
       "id                                                                         \n",
       "50785                                      0                            1  \n",
       "51630                                      0                            0  \n",
       "17168                                      0                            1  \n",
       "45559                                      0                            1  \n",
       "49871                                      0                            0  \n",
       "\n",
       "[5 rows x 4783 columns]"
      ]
     },
     "execution_count": 19,
     "metadata": {},
     "output_type": "execute_result"
    }
   ],
   "source": [
    "test_preprocessed.head()"
   ]
  },
  {
   "cell_type": "code",
   "execution_count": 93,
   "metadata": {},
   "outputs": [
    {
     "name": "stdout",
     "output_type": "stream",
     "text": [
      "Index(['age', 'amount_tsh', 'construction_year', 'date_recorded_year',\n",
      "       'district_code', 'gps_height', 'latitude', 'longitude', 'population',\n",
      "       'region_code',\n",
      "       ...\n",
      "       'waterpoint_type_communal standpipe multiple', 'waterpoint_type_dam',\n",
      "       'waterpoint_type_hand pump', 'waterpoint_type_improved spring',\n",
      "       'waterpoint_type_other', 'waterpoint_type_group_communal standpipe',\n",
      "       'waterpoint_type_group_dam', 'waterpoint_type_group_hand pump',\n",
      "       'waterpoint_type_group_improved spring', 'waterpoint_type_group_other'],\n",
      "      dtype='object', length=4785)\n",
      "Index([], dtype='object')\n"
     ]
    }
   ],
   "source": [
    "train_cols = train_preprocessed.columns\n",
    "test_cols = test_preprocessed.columns\n",
    "\n",
    "common_cols = train_cols.intersection(test_cols)\n",
    "train_not_test = train_cols.difference(test_cols)\n",
    "print(common_cols)\n",
    "print(test_preprocessed.filter(like = 'status').columns)"
   ]
  },
  {
   "cell_type": "code",
   "execution_count": 94,
   "metadata": {},
   "outputs": [
    {
     "data": {
      "text/html": [
       "<div>\n",
       "<style scoped>\n",
       "    .dataframe tbody tr th:only-of-type {\n",
       "        vertical-align: middle;\n",
       "    }\n",
       "\n",
       "    .dataframe tbody tr th {\n",
       "        vertical-align: top;\n",
       "    }\n",
       "\n",
       "    .dataframe thead th {\n",
       "        text-align: right;\n",
       "    }\n",
       "</style>\n",
       "<table border=\"1\" class=\"dataframe\">\n",
       "  <thead>\n",
       "    <tr style=\"text-align: right;\">\n",
       "      <th></th>\n",
       "      <th>age</th>\n",
       "      <th>amount_tsh</th>\n",
       "      <th>construction_year</th>\n",
       "      <th>date_recorded_year</th>\n",
       "      <th>district_code</th>\n",
       "      <th>gps_height</th>\n",
       "      <th>latitude</th>\n",
       "      <th>longitude</th>\n",
       "      <th>population</th>\n",
       "      <th>region_code</th>\n",
       "      <th>...</th>\n",
       "      <th>waterpoint_type_dam</th>\n",
       "      <th>waterpoint_type_hand pump</th>\n",
       "      <th>waterpoint_type_improved spring</th>\n",
       "      <th>waterpoint_type_other</th>\n",
       "      <th>waterpoint_type_group_communal standpipe</th>\n",
       "      <th>waterpoint_type_group_dam</th>\n",
       "      <th>waterpoint_type_group_hand pump</th>\n",
       "      <th>waterpoint_type_group_improved spring</th>\n",
       "      <th>waterpoint_type_group_other</th>\n",
       "      <th>status_group</th>\n",
       "    </tr>\n",
       "    <tr>\n",
       "      <th>id</th>\n",
       "      <th></th>\n",
       "      <th></th>\n",
       "      <th></th>\n",
       "      <th></th>\n",
       "      <th></th>\n",
       "      <th></th>\n",
       "      <th></th>\n",
       "      <th></th>\n",
       "      <th></th>\n",
       "      <th></th>\n",
       "      <th></th>\n",
       "      <th></th>\n",
       "      <th></th>\n",
       "      <th></th>\n",
       "      <th></th>\n",
       "      <th></th>\n",
       "      <th></th>\n",
       "      <th></th>\n",
       "      <th></th>\n",
       "      <th></th>\n",
       "      <th></th>\n",
       "    </tr>\n",
       "  </thead>\n",
       "  <tbody>\n",
       "    <tr>\n",
       "      <th>69572</th>\n",
       "      <td>-0.175754</td>\n",
       "      <td>1.895665</td>\n",
       "      <td>1999.0</td>\n",
       "      <td>2011</td>\n",
       "      <td>5</td>\n",
       "      <td>1390</td>\n",
       "      <td>-9.856322</td>\n",
       "      <td>34.938093</td>\n",
       "      <td>-0.150399</td>\n",
       "      <td>11</td>\n",
       "      <td>...</td>\n",
       "      <td>0</td>\n",
       "      <td>0</td>\n",
       "      <td>0</td>\n",
       "      <td>0</td>\n",
       "      <td>1</td>\n",
       "      <td>0</td>\n",
       "      <td>0</td>\n",
       "      <td>0</td>\n",
       "      <td>0</td>\n",
       "      <td>functional</td>\n",
       "    </tr>\n",
       "    <tr>\n",
       "      <th>8776</th>\n",
       "      <td>-1.035630</td>\n",
       "      <td>-0.105970</td>\n",
       "      <td>2010.0</td>\n",
       "      <td>2013</td>\n",
       "      <td>2</td>\n",
       "      <td>1399</td>\n",
       "      <td>-2.147466</td>\n",
       "      <td>34.698766</td>\n",
       "      <td>0.212290</td>\n",
       "      <td>20</td>\n",
       "      <td>...</td>\n",
       "      <td>0</td>\n",
       "      <td>0</td>\n",
       "      <td>0</td>\n",
       "      <td>0</td>\n",
       "      <td>1</td>\n",
       "      <td>0</td>\n",
       "      <td>0</td>\n",
       "      <td>0</td>\n",
       "      <td>0</td>\n",
       "      <td>functional</td>\n",
       "    </tr>\n",
       "    <tr>\n",
       "      <th>34310</th>\n",
       "      <td>-0.940088</td>\n",
       "      <td>-0.097630</td>\n",
       "      <td>2009.0</td>\n",
       "      <td>2013</td>\n",
       "      <td>4</td>\n",
       "      <td>686</td>\n",
       "      <td>-3.821329</td>\n",
       "      <td>37.460664</td>\n",
       "      <td>0.148660</td>\n",
       "      <td>21</td>\n",
       "      <td>...</td>\n",
       "      <td>0</td>\n",
       "      <td>0</td>\n",
       "      <td>0</td>\n",
       "      <td>0</td>\n",
       "      <td>1</td>\n",
       "      <td>0</td>\n",
       "      <td>0</td>\n",
       "      <td>0</td>\n",
       "      <td>0</td>\n",
       "      <td>functional</td>\n",
       "    </tr>\n",
       "    <tr>\n",
       "      <th>67743</th>\n",
       "      <td>1.257374</td>\n",
       "      <td>-0.105970</td>\n",
       "      <td>1986.0</td>\n",
       "      <td>2013</td>\n",
       "      <td>63</td>\n",
       "      <td>263</td>\n",
       "      <td>-11.155298</td>\n",
       "      <td>38.486161</td>\n",
       "      <td>-0.258570</td>\n",
       "      <td>90</td>\n",
       "      <td>...</td>\n",
       "      <td>0</td>\n",
       "      <td>0</td>\n",
       "      <td>0</td>\n",
       "      <td>0</td>\n",
       "      <td>1</td>\n",
       "      <td>0</td>\n",
       "      <td>0</td>\n",
       "      <td>0</td>\n",
       "      <td>0</td>\n",
       "      <td>non functional</td>\n",
       "    </tr>\n",
       "    <tr>\n",
       "      <th>19728</th>\n",
       "      <td>-0.271295</td>\n",
       "      <td>-0.105970</td>\n",
       "      <td>2000.0</td>\n",
       "      <td>2011</td>\n",
       "      <td>1</td>\n",
       "      <td>0</td>\n",
       "      <td>-1.825359</td>\n",
       "      <td>31.130847</td>\n",
       "      <td>-0.381587</td>\n",
       "      <td>18</td>\n",
       "      <td>...</td>\n",
       "      <td>0</td>\n",
       "      <td>0</td>\n",
       "      <td>0</td>\n",
       "      <td>0</td>\n",
       "      <td>1</td>\n",
       "      <td>0</td>\n",
       "      <td>0</td>\n",
       "      <td>0</td>\n",
       "      <td>0</td>\n",
       "      <td>functional</td>\n",
       "    </tr>\n",
       "  </tbody>\n",
       "</table>\n",
       "<p>5 rows × 4786 columns</p>\n",
       "</div>"
      ],
      "text/plain": [
       "            age  amount_tsh  construction_year  date_recorded_year  \\\n",
       "id                                                                   \n",
       "69572 -0.175754    1.895665             1999.0                2011   \n",
       "8776  -1.035630   -0.105970             2010.0                2013   \n",
       "34310 -0.940088   -0.097630             2009.0                2013   \n",
       "67743  1.257374   -0.105970             1986.0                2013   \n",
       "19728 -0.271295   -0.105970             2000.0                2011   \n",
       "\n",
       "       district_code  gps_height   latitude  longitude  population  \\\n",
       "id                                                                   \n",
       "69572              5        1390  -9.856322  34.938093   -0.150399   \n",
       "8776               2        1399  -2.147466  34.698766    0.212290   \n",
       "34310              4         686  -3.821329  37.460664    0.148660   \n",
       "67743             63         263 -11.155298  38.486161   -0.258570   \n",
       "19728              1           0  -1.825359  31.130847   -0.381587   \n",
       "\n",
       "       region_code       ...        waterpoint_type_dam  \\\n",
       "id                       ...                              \n",
       "69572           11       ...                          0   \n",
       "8776            20       ...                          0   \n",
       "34310           21       ...                          0   \n",
       "67743           90       ...                          0   \n",
       "19728           18       ...                          0   \n",
       "\n",
       "       waterpoint_type_hand pump  waterpoint_type_improved spring  \\\n",
       "id                                                                  \n",
       "69572                          0                                0   \n",
       "8776                           0                                0   \n",
       "34310                          0                                0   \n",
       "67743                          0                                0   \n",
       "19728                          0                                0   \n",
       "\n",
       "       waterpoint_type_other  waterpoint_type_group_communal standpipe  \\\n",
       "id                                                                       \n",
       "69572                      0                                         1   \n",
       "8776                       0                                         1   \n",
       "34310                      0                                         1   \n",
       "67743                      0                                         1   \n",
       "19728                      0                                         1   \n",
       "\n",
       "       waterpoint_type_group_dam  waterpoint_type_group_hand pump  \\\n",
       "id                                                                  \n",
       "69572                          0                                0   \n",
       "8776                           0                                0   \n",
       "34310                          0                                0   \n",
       "67743                          0                                0   \n",
       "19728                          0                                0   \n",
       "\n",
       "       waterpoint_type_group_improved spring  waterpoint_type_group_other  \\\n",
       "id                                                                          \n",
       "69572                                      0                            0   \n",
       "8776                                       0                            0   \n",
       "34310                                      0                            0   \n",
       "67743                                      0                            0   \n",
       "19728                                      0                            0   \n",
       "\n",
       "         status_group  \n",
       "id                     \n",
       "69572      functional  \n",
       "8776       functional  \n",
       "34310      functional  \n",
       "67743  non functional  \n",
       "19728      functional  \n",
       "\n",
       "[5 rows x 4786 columns]"
      ]
     },
     "execution_count": 94,
     "metadata": {},
     "output_type": "execute_result"
    }
   ],
   "source": [
    "training_labels.set_index('id', inplace = True)\n",
    "\n",
    "train = pd.merge(train_preprocessed, training_labels, how = 'inner', left_index =True, right_index = True)\n",
    "\n",
    "\n",
    "train.head()\n"
   ]
  },
  {
   "cell_type": "markdown",
   "metadata": {},
   "source": [
    "# Opzetten van test/train split, stratify omdat class imbalance"
   ]
  },
  {
   "cell_type": "code",
   "execution_count": 95,
   "metadata": {},
   "outputs": [],
   "source": [
    "y = train['status_group'] .values\n",
    "X = train.drop('status_group', axis = 1).values\n",
    "\n",
    "\n",
    "\n",
    "#create train/test split on train data\n",
    "X_train, X_test, y_train, y_test = train_test_split(X, y, test_size = 0.4, stratify = y, random_state = 2018)\n",
    "\n",
    "\n",
    "\n"
   ]
  },
  {
   "cell_type": "code",
   "execution_count": null,
   "metadata": {},
   "outputs": [],
   "source": [
    "from imblearn.combine import SMOTETomek\n",
    "\n",
    "smt = SMOTETomek(ratio='auto')\n",
    "X_smt, y_smt = smt.fit_sample(X, y)\n",
    "plot_2d_space(X_smt, y_smt, 'SMOTE + Tomek links')"
   ]
  },
  {
   "cell_type": "markdown",
   "metadata": {},
   "source": [
    "# Logistic regression model met CV en Gridsearch"
   ]
  },
  {
   "cell_type": "code",
   "execution_count": null,
   "metadata": {},
   "outputs": [],
   "source": [
    "#create hyperparamater grid\n",
    "c_space = np.logspace(-10, 8, 10)\n",
    "param_grid = {'C': c_space, 'penalty': ['l1', 'l2']}\n",
    "\n",
    "#instantiate log reg classifier\n",
    "logreg = LogisticRegression()\n",
    "\n",
    "#GridSearchCV\n",
    "logreg_cv = GridSearchCV(logreg,  param_grid = param_grid , cv = 10, n_jobs = -1)\n",
    "\n",
    "\n",
    "# Fit it to the training data\n",
    "logreg_cv.fit(X_train, y_train,)\n",
    "\n",
    "# Print the optimal parameters and best score\n",
    "print(\"Tuned Logistic Regression Parameter: {}\".format(logreg_cv.best_params_))\n",
    "print(\"Tuned Logistic Regression Accuracy: {}\".format(logreg_cv.best_score_))\n",
    "\n",
    "# Predict the labels of the test set: y_pred\n",
    "y_pred_probs = logreg_cv.predict_proba(X_test)\n",
    "\n",
    "score = log_loss(y_test, y_pred_probs)\n",
    "\n",
    "print(\"Tuned Logistic Regression Log loss: {}\".format(score))"
   ]
  },
  {
   "cell_type": "markdown",
   "metadata": {},
   "source": [
    "# RandomForest met CV en Gridsearch"
   ]
  },
  {
   "cell_type": "code",
   "execution_count": 96,
   "metadata": {},
   "outputs": [
    {
     "name": "stdout",
     "output_type": "stream",
     "text": [
      "Tuned Randomforest Parameter: {'n_estimators': 1000}\n",
      "Tuned Randomforest Accuracy: 0.7904040404040404\n"
     ]
    }
   ],
   "source": [
    "# hyperparameter grid\n",
    "param_grid = {\n",
    "    'n_estimators': [200, 300, 1000]\n",
    "}\n",
    "#RandomForest classifier\n",
    "rfc = RandomForestClassifier()\n",
    "#GridSearchCV\n",
    "rf_cv = GridSearchCV(rfc, param_grid = param_grid, cv=10, n_jobs = -1)\n",
    "rf_cv.fit(X_train, y_train)\n",
    "\n",
    "# Print the optimal parameters and best score\n",
    "print(\"Tuned Randomforest Parameter: {}\".format(rf_cv.best_params_))\n",
    "print(\"Tuned Randomforest Accuracy: {}\".format(rf_cv.best_score_))"
   ]
  },
  {
   "cell_type": "code",
   "execution_count": 217,
   "metadata": {},
   "outputs": [
    {
     "name": "stdout",
     "output_type": "stream",
     "text": [
      "[[11364   187  1352]\n",
      " [ 1106   296   325]\n",
      " [ 2598    90  6442]]\n"
     ]
    }
   ],
   "source": [
    "y_pred = logreg_cv.predict(X_test)\n",
    "print(confusion_matrix(y_test, y_pred))\n",
    "\n"
   ]
  },
  {
   "cell_type": "code",
   "execution_count": 97,
   "metadata": {},
   "outputs": [
    {
     "name": "stdout",
     "output_type": "stream",
     "text": [
      "[[11161   430  1312]\n",
      " [  840   610   277]\n",
      " [ 1767   179  7184]]\n"
     ]
    }
   ],
   "source": [
    "y_pred_rf = rf_cv.predict(X_test)\n",
    "print(confusion_matrix(y_test, y_pred_rf))"
   ]
  },
  {
   "cell_type": "code",
   "execution_count": 219,
   "metadata": {},
   "outputs": [
    {
     "data": {
      "text/plain": [
       "array(['functional', 'functional', 'non functional', ..., 'functional',\n",
       "       'functional', 'non functional'], dtype=object)"
      ]
     },
     "execution_count": 219,
     "metadata": {},
     "output_type": "execute_result"
    }
   ],
   "source": [
    "# Logistic Regression heeft hogere log loss\n",
    "\n",
    "\n",
    "Prediction = rf_cv.predict(test_preprocessed)\n",
    "\n",
    "Prediction"
   ]
  },
  {
   "cell_type": "code",
   "execution_count": 48,
   "metadata": {},
   "outputs": [
    {
     "data": {
      "text/html": [
       "<div>\n",
       "<style scoped>\n",
       "    .dataframe tbody tr th:only-of-type {\n",
       "        vertical-align: middle;\n",
       "    }\n",
       "\n",
       "    .dataframe tbody tr th {\n",
       "        vertical-align: top;\n",
       "    }\n",
       "\n",
       "    .dataframe thead th {\n",
       "        text-align: right;\n",
       "    }\n",
       "</style>\n",
       "<table border=\"1\" class=\"dataframe\">\n",
       "  <thead>\n",
       "    <tr style=\"text-align: right;\">\n",
       "      <th></th>\n",
       "      <th>amount_tsh</th>\n",
       "      <th>construction_year</th>\n",
       "      <th>district_code</th>\n",
       "      <th>gps_height</th>\n",
       "      <th>latitude</th>\n",
       "      <th>longitude</th>\n",
       "      <th>population</th>\n",
       "      <th>region_code</th>\n",
       "      <th>basin_Lake Nyasa</th>\n",
       "      <th>basin_Lake Rukwa</th>\n",
       "      <th>...</th>\n",
       "      <th>waterpoint_type_dam</th>\n",
       "      <th>waterpoint_type_hand pump</th>\n",
       "      <th>waterpoint_type_improved spring</th>\n",
       "      <th>waterpoint_type_other</th>\n",
       "      <th>waterpoint_type_group_communal standpipe</th>\n",
       "      <th>waterpoint_type_group_dam</th>\n",
       "      <th>waterpoint_type_group_hand pump</th>\n",
       "      <th>waterpoint_type_group_improved spring</th>\n",
       "      <th>waterpoint_type_group_other</th>\n",
       "      <th>Prediction</th>\n",
       "    </tr>\n",
       "    <tr>\n",
       "      <th>id</th>\n",
       "      <th></th>\n",
       "      <th></th>\n",
       "      <th></th>\n",
       "      <th></th>\n",
       "      <th></th>\n",
       "      <th></th>\n",
       "      <th></th>\n",
       "      <th></th>\n",
       "      <th></th>\n",
       "      <th></th>\n",
       "      <th></th>\n",
       "      <th></th>\n",
       "      <th></th>\n",
       "      <th></th>\n",
       "      <th></th>\n",
       "      <th></th>\n",
       "      <th></th>\n",
       "      <th></th>\n",
       "      <th></th>\n",
       "      <th></th>\n",
       "      <th></th>\n",
       "    </tr>\n",
       "  </thead>\n",
       "  <tbody>\n",
       "    <tr>\n",
       "      <th>50785</th>\n",
       "      <td>0.0</td>\n",
       "      <td>2012</td>\n",
       "      <td>3</td>\n",
       "      <td>1996</td>\n",
       "      <td>-4.059696</td>\n",
       "      <td>35.290799</td>\n",
       "      <td>321</td>\n",
       "      <td>21</td>\n",
       "      <td>0</td>\n",
       "      <td>0</td>\n",
       "      <td>...</td>\n",
       "      <td>0</td>\n",
       "      <td>0</td>\n",
       "      <td>0</td>\n",
       "      <td>1</td>\n",
       "      <td>0</td>\n",
       "      <td>0</td>\n",
       "      <td>0</td>\n",
       "      <td>0</td>\n",
       "      <td>1</td>\n",
       "      <td>non functional</td>\n",
       "    </tr>\n",
       "    <tr>\n",
       "      <th>51630</th>\n",
       "      <td>0.0</td>\n",
       "      <td>2000</td>\n",
       "      <td>2</td>\n",
       "      <td>1569</td>\n",
       "      <td>-3.309214</td>\n",
       "      <td>36.656709</td>\n",
       "      <td>300</td>\n",
       "      <td>2</td>\n",
       "      <td>0</td>\n",
       "      <td>0</td>\n",
       "      <td>...</td>\n",
       "      <td>0</td>\n",
       "      <td>0</td>\n",
       "      <td>0</td>\n",
       "      <td>0</td>\n",
       "      <td>1</td>\n",
       "      <td>0</td>\n",
       "      <td>0</td>\n",
       "      <td>0</td>\n",
       "      <td>0</td>\n",
       "      <td>functional</td>\n",
       "    </tr>\n",
       "    <tr>\n",
       "      <th>17168</th>\n",
       "      <td>0.0</td>\n",
       "      <td>2010</td>\n",
       "      <td>2</td>\n",
       "      <td>1567</td>\n",
       "      <td>-5.004344</td>\n",
       "      <td>34.767863</td>\n",
       "      <td>500</td>\n",
       "      <td>13</td>\n",
       "      <td>0</td>\n",
       "      <td>0</td>\n",
       "      <td>...</td>\n",
       "      <td>0</td>\n",
       "      <td>0</td>\n",
       "      <td>0</td>\n",
       "      <td>1</td>\n",
       "      <td>0</td>\n",
       "      <td>0</td>\n",
       "      <td>0</td>\n",
       "      <td>0</td>\n",
       "      <td>1</td>\n",
       "      <td>functional</td>\n",
       "    </tr>\n",
       "    <tr>\n",
       "      <th>45559</th>\n",
       "      <td>0.0</td>\n",
       "      <td>1987</td>\n",
       "      <td>43</td>\n",
       "      <td>267</td>\n",
       "      <td>-9.418672</td>\n",
       "      <td>38.058046</td>\n",
       "      <td>250</td>\n",
       "      <td>80</td>\n",
       "      <td>0</td>\n",
       "      <td>0</td>\n",
       "      <td>...</td>\n",
       "      <td>0</td>\n",
       "      <td>0</td>\n",
       "      <td>0</td>\n",
       "      <td>1</td>\n",
       "      <td>0</td>\n",
       "      <td>0</td>\n",
       "      <td>0</td>\n",
       "      <td>0</td>\n",
       "      <td>1</td>\n",
       "      <td>non functional</td>\n",
       "    </tr>\n",
       "    <tr>\n",
       "      <th>49871</th>\n",
       "      <td>500.0</td>\n",
       "      <td>2000</td>\n",
       "      <td>3</td>\n",
       "      <td>1260</td>\n",
       "      <td>-10.950412</td>\n",
       "      <td>35.006123</td>\n",
       "      <td>60</td>\n",
       "      <td>10</td>\n",
       "      <td>0</td>\n",
       "      <td>0</td>\n",
       "      <td>...</td>\n",
       "      <td>0</td>\n",
       "      <td>0</td>\n",
       "      <td>0</td>\n",
       "      <td>0</td>\n",
       "      <td>1</td>\n",
       "      <td>0</td>\n",
       "      <td>0</td>\n",
       "      <td>0</td>\n",
       "      <td>0</td>\n",
       "      <td>functional</td>\n",
       "    </tr>\n",
       "  </tbody>\n",
       "</table>\n",
       "<p>5 rows × 4784 columns</p>\n",
       "</div>"
      ],
      "text/plain": [
       "       amount_tsh  construction_year  district_code  gps_height   latitude  \\\n",
       "id                                                                           \n",
       "50785         0.0               2012              3        1996  -4.059696   \n",
       "51630         0.0               2000              2        1569  -3.309214   \n",
       "17168         0.0               2010              2        1567  -5.004344   \n",
       "45559         0.0               1987             43         267  -9.418672   \n",
       "49871       500.0               2000              3        1260 -10.950412   \n",
       "\n",
       "       longitude  population  region_code  basin_Lake Nyasa  basin_Lake Rukwa  \\\n",
       "id                                                                              \n",
       "50785  35.290799         321           21                 0                 0   \n",
       "51630  36.656709         300            2                 0                 0   \n",
       "17168  34.767863         500           13                 0                 0   \n",
       "45559  38.058046         250           80                 0                 0   \n",
       "49871  35.006123          60           10                 0                 0   \n",
       "\n",
       "            ...        waterpoint_type_dam  waterpoint_type_hand pump  \\\n",
       "id          ...                                                         \n",
       "50785       ...                          0                          0   \n",
       "51630       ...                          0                          0   \n",
       "17168       ...                          0                          0   \n",
       "45559       ...                          0                          0   \n",
       "49871       ...                          0                          0   \n",
       "\n",
       "       waterpoint_type_improved spring  waterpoint_type_other  \\\n",
       "id                                                              \n",
       "50785                                0                      1   \n",
       "51630                                0                      0   \n",
       "17168                                0                      1   \n",
       "45559                                0                      1   \n",
       "49871                                0                      0   \n",
       "\n",
       "       waterpoint_type_group_communal standpipe  waterpoint_type_group_dam  \\\n",
       "id                                                                           \n",
       "50785                                         0                          0   \n",
       "51630                                         1                          0   \n",
       "17168                                         0                          0   \n",
       "45559                                         0                          0   \n",
       "49871                                         1                          0   \n",
       "\n",
       "       waterpoint_type_group_hand pump  waterpoint_type_group_improved spring  \\\n",
       "id                                                                              \n",
       "50785                                0                                      0   \n",
       "51630                                0                                      0   \n",
       "17168                                0                                      0   \n",
       "45559                                0                                      0   \n",
       "49871                                0                                      0   \n",
       "\n",
       "       waterpoint_type_group_other      Prediction  \n",
       "id                                                  \n",
       "50785                            1  non functional  \n",
       "51630                            0      functional  \n",
       "17168                            1      functional  \n",
       "45559                            1  non functional  \n",
       "49871                            0      functional  \n",
       "\n",
       "[5 rows x 4784 columns]"
      ]
     },
     "execution_count": 48,
     "metadata": {},
     "output_type": "execute_result"
    }
   ],
   "source": [
    "test_preprocessed.head()"
   ]
  },
  {
   "cell_type": "code",
   "execution_count": 98,
   "metadata": {},
   "outputs": [
    {
     "name": "stdout",
     "output_type": "stream",
     "text": [
      "            age  amount_tsh  construction_year  date_recorded_year  \\\n",
      "id                                                                   \n",
      "50785 -0.755277   -0.128571             2012.0                2013   \n",
      "51630 -0.742710   -0.128571             2000.0                2013   \n",
      "17168 -0.753182   -0.128571             2010.0                2013   \n",
      "45559 -0.729096   -0.128571             1987.0                2013   \n",
      "49871 -0.742710    0.070562             2000.0                2013   \n",
      "\n",
      "       district_code  gps_height   latitude  longitude  population  \\\n",
      "id                                                                   \n",
      "50785              3        1996  -4.059696  35.290799    0.291567   \n",
      "51630              2        1569  -3.309214  36.656709    0.246837   \n",
      "17168              2        1567  -5.004344  34.767863    0.672837   \n",
      "45559             43         267  -9.418672  38.058046    0.140337   \n",
      "49871              3        1260 -10.950412  35.006123   -0.264363   \n",
      "\n",
      "       region_code             ...               \\\n",
      "id                             ...                \n",
      "50785           21             ...                \n",
      "51630            2             ...                \n",
      "17168           13             ...                \n",
      "45559           80             ...                \n",
      "49871           10             ...                \n",
      "\n",
      "       waterpoint_type_communal standpipe multiple  waterpoint_type_dam  \\\n",
      "id                                                                        \n",
      "50785                                            0                    0   \n",
      "51630                                            0                    0   \n",
      "17168                                            0                    0   \n",
      "45559                                            0                    0   \n",
      "49871                                            0                    0   \n",
      "\n",
      "       waterpoint_type_hand pump  waterpoint_type_improved spring  \\\n",
      "id                                                                  \n",
      "50785                          0                                0   \n",
      "51630                          0                                0   \n",
      "17168                          0                                0   \n",
      "45559                          0                                0   \n",
      "49871                          0                                0   \n",
      "\n",
      "       waterpoint_type_other  waterpoint_type_group_communal standpipe  \\\n",
      "id                                                                       \n",
      "50785                      1                                         0   \n",
      "51630                      0                                         1   \n",
      "17168                      1                                         0   \n",
      "45559                      1                                         0   \n",
      "49871                      0                                         1   \n",
      "\n",
      "       waterpoint_type_group_dam  waterpoint_type_group_hand pump  \\\n",
      "id                                                                  \n",
      "50785                          0                                0   \n",
      "51630                          0                                0   \n",
      "17168                          0                                0   \n",
      "45559                          0                                0   \n",
      "49871                          0                                0   \n",
      "\n",
      "       waterpoint_type_group_improved spring  waterpoint_type_group_other  \n",
      "id                                                                         \n",
      "50785                                      0                            1  \n",
      "51630                                      0                            0  \n",
      "17168                                      0                            1  \n",
      "45559                                      0                            1  \n",
      "49871                                      0                            0  \n",
      "\n",
      "[5 rows x 4785 columns]\n"
     ]
    },
    {
     "name": "stderr",
     "output_type": "stream",
     "text": [
      "C:\\Users\\nspeldekamp\\AppData\\Local\\Continuum\\anaconda3\\lib\\site-packages\\ipykernel_launcher.py:5: SettingWithCopyWarning: \n",
      "A value is trying to be set on a copy of a slice from a DataFrame.\n",
      "Try using .loc[row_indexer,col_indexer] = value instead\n",
      "\n",
      "See the caveats in the documentation: http://pandas.pydata.org/pandas-docs/stable/indexing.html#indexing-view-versus-copy\n",
      "  \"\"\"\n"
     ]
    }
   ],
   "source": [
    "print(test_preprocessed.head())\n",
    "#test_preprocessed.drop('Prediction', axis = 1, inplace = True)\n",
    "\n",
    "\n",
    "test_preprocessed['Prediction'] = rf_cv.predict(test_preprocessed)\n",
    "\n",
    "\n",
    "\n",
    "\n",
    "\n"
   ]
  },
  {
   "cell_type": "markdown",
   "metadata": {},
   "source": [
    "# Submission maken"
   ]
  },
  {
   "cell_type": "code",
   "execution_count": 99,
   "metadata": {},
   "outputs": [
    {
     "data": {
      "text/html": [
       "<div>\n",
       "<style scoped>\n",
       "    .dataframe tbody tr th:only-of-type {\n",
       "        vertical-align: middle;\n",
       "    }\n",
       "\n",
       "    .dataframe tbody tr th {\n",
       "        vertical-align: top;\n",
       "    }\n",
       "\n",
       "    .dataframe thead th {\n",
       "        text-align: right;\n",
       "    }\n",
       "</style>\n",
       "<table border=\"1\" class=\"dataframe\">\n",
       "  <thead>\n",
       "    <tr style=\"text-align: right;\">\n",
       "      <th></th>\n",
       "      <th>Prediction</th>\n",
       "    </tr>\n",
       "    <tr>\n",
       "      <th>id</th>\n",
       "      <th></th>\n",
       "    </tr>\n",
       "  </thead>\n",
       "  <tbody>\n",
       "    <tr>\n",
       "      <th>50785</th>\n",
       "      <td>functional</td>\n",
       "    </tr>\n",
       "    <tr>\n",
       "      <th>51630</th>\n",
       "      <td>functional</td>\n",
       "    </tr>\n",
       "    <tr>\n",
       "      <th>17168</th>\n",
       "      <td>non functional</td>\n",
       "    </tr>\n",
       "    <tr>\n",
       "      <th>45559</th>\n",
       "      <td>non functional</td>\n",
       "    </tr>\n",
       "    <tr>\n",
       "      <th>49871</th>\n",
       "      <td>functional</td>\n",
       "    </tr>\n",
       "  </tbody>\n",
       "</table>\n",
       "</div>"
      ],
      "text/plain": [
       "           Prediction\n",
       "id                   \n",
       "50785      functional\n",
       "51630      functional\n",
       "17168  non functional\n",
       "45559  non functional\n",
       "49871      functional"
      ]
     },
     "execution_count": 99,
     "metadata": {},
     "output_type": "execute_result"
    }
   ],
   "source": [
    "Submission = test_preprocessed.loc[:,['Prediction']]\n",
    "\n",
    "Submission.head()"
   ]
  },
  {
   "cell_type": "markdown",
   "metadata": {},
   "source": [
    "## Write submission to file"
   ]
  },
  {
   "cell_type": "code",
   "execution_count": 100,
   "metadata": {},
   "outputs": [],
   "source": [
    "Submission = Submission.rename(columns = {'Prediction':'status_group'})\n",
    "\n",
    "Submission.to_csv('I:/Python Scripts/DataDriven/Pump it up/Submission.csv', index=True)"
   ]
  },
  {
   "cell_type": "code",
   "execution_count": null,
   "metadata": {},
   "outputs": [],
   "source": []
  }
 ],
 "metadata": {
  "kernelspec": {
   "display_name": "Python 3",
   "language": "python",
   "name": "python3"
  },
  "language_info": {
   "codemirror_mode": {
    "name": "ipython",
    "version": 3
   },
   "file_extension": ".py",
   "mimetype": "text/x-python",
   "name": "python",
   "nbconvert_exporter": "python",
   "pygments_lexer": "ipython3",
   "version": "3.6.5"
  }
 },
 "nbformat": 4,
 "nbformat_minor": 2
}
